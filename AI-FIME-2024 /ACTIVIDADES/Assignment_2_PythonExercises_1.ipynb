{
  "nbformat": 4,
  "nbformat_minor": 0,
  "metadata": {
    "colab": {
      "provenance": [],
      "authorship_tag": "ABX9TyNrEAWEDjOjsrbqCuOnsx+/",
      "include_colab_link": true
    },
    "kernelspec": {
      "name": "python3",
      "display_name": "Python 3"
    },
    "language_info": {
      "name": "python"
    }
  },
  "cells": [
    {
      "cell_type": "markdown",
      "metadata": {
        "id": "view-in-github",
        "colab_type": "text"
      },
      "source": [
        "<a href=\"https://colab.research.google.com/github/XimenaRamirezA/AI-FIME-2024/blob/ACTIVIDADES/AI-FIME-2024%20/ACTIVIDADES/Assignment_2_PythonExercises_1.ipynb\" target=\"_parent\"><img src=\"https://colab.research.google.com/assets/colab-badge.svg\" alt=\"Open In Colab\"/></a>"
      ]
    },
    {
      "cell_type": "markdown",
      "source": [
        "# ACTIVIDAD 2_BASICS ON PYTHON\n",
        "Ximena Montserrat Ramirez Aguilar 1952503\n",
        "NI-N3 Verano Inteligencia Artificial FIME-2024"
      ],
      "metadata": {
        "id": "PDEs9jQec0lB"
      }
    },
    {
      "cell_type": "code",
      "source": [
        "print(\"Hello, World!\")"
      ],
      "metadata": {
        "colab": {
          "base_uri": "https://localhost:8080/"
        },
        "id": "aBRaQRmsdpQt",
        "outputId": "dbee13b2-a552-4650-c334-ddd45fae19c2"
      },
      "execution_count": null,
      "outputs": [
        {
          "output_type": "stream",
          "name": "stdout",
          "text": [
            "Hello, World!\n"
          ]
        }
      ]
    },
    {
      "cell_type": "markdown",
      "source": [
        "*Text Analysis Tool:* Create a Python program that reads a text file and performs various analyses on its content. The program should: Count the number of words, sentences, and paragraphs. Calculate the average word length. Identify the most common words and their frequencies."
      ],
      "metadata": {
        "id": "8JhRmgRmdWrS"
      }
    },
    {
      "cell_type": "markdown",
      "source": [
        "## **TEXT ANALYSIS TOOL**\n"
      ],
      "metadata": {
        "id": "37-XmPvcDAmV"
      }
    },
    {
      "cell_type": "code",
      "source": [
        "import re\n",
        "from collections import Counter\n",
        "\n",
        "# Función para leer el archivo de texto\n",
        "def leer_archivo(ruta):\n",
        "    with open(ruta, 'r', encoding='utf-8') as file:\n",
        "        texto = file.read()\n",
        "    return texto\n",
        "\n",
        "# Función para contar palabras, oraciones y párrafos\n",
        "def analizar_texto(texto):\n",
        "    # Contar palabras\n",
        "    palabras = re.findall(r'\\b\\w+\\b', texto)\n",
        "    num_palabras = len(palabras)\n",
        "\n",
        "    # Contar oraciones\n",
        "    oraciones = re.split(r'[.!?]+', texto)\n",
        "    num_oraciones = len([oracion for oracion in oraciones if oracion.strip()])\n",
        "\n",
        "    # Contar párrafos\n",
        "    parrafos = texto.split('\\n')\n",
        "    num_parrafos = len([parrafo for parrafo in parrafos if parrafo.strip()])\n",
        "\n",
        "    # Calcular la longitud promedio de las palabras\n",
        "    longitud_total_palabras = sum(len(palabra) for palabra in palabras)\n",
        "    longitud_promedio_palabra = longitud_total_palabras / num_palabras if num_palabras > 0 else 0\n",
        "\n",
        "    # Encontrar las palabras más comunes\n",
        "    contador_palabras = Counter(palabras)\n",
        "    palabras_comunes = contador_palabras.most_common(10)\n",
        "\n",
        "    return {\n",
        "        'num_palabras': num_palabras,\n",
        "        'num_oraciones': num_oraciones,\n",
        "        'num_parrafos': num_parrafos,\n",
        "        'longitud_promedio_palabra': longitud_promedio_palabra,\n",
        "        'palabras_comunes': palabras_comunes\n",
        "    }\n",
        "\n",
        "# Función para mostrar los resultados del análisis\n",
        "def mostrar_resultados(resultados):\n",
        "    print(\"Número de palabras:\", resultados['num_palabras'])\n",
        "    print(\"Número de oraciones:\", resultados['num_oraciones'])\n",
        "    print(\"Número de párrafos:\", resultados['num_parrafos'])\n",
        "    print(\"Longitud promedio de las palabras:\", resultados['longitud_promedio_palabra'])\n",
        "    print(\"Palabras más comunes y sus frecuencias:\")\n",
        "    for palabra, frecuencia in resultados['palabras_comunes']:\n",
        "        print(f\"  {palabra}: {frecuencia}\")\n",
        "\n",
        "# Ruta del archivo de texto\n",
        "ruta_archivo = '/content/NASA-2050.txt'  # Cambia ' 'por la ruta de tu archivo\n",
        "\n",
        "# Leer el archivo de texto\n",
        "texto = leer_archivo(ruta_archivo)\n",
        "\n",
        "# Analizar el texto\n",
        "resultados = analizar_texto(texto)\n",
        "\n",
        "# Mostrar los resultados\n",
        "mostrar_resultados(resultados)\n"
      ],
      "metadata": {
        "colab": {
          "base_uri": "https://localhost:8080/"
        },
        "id": "6s4Wc8FPGvLE",
        "outputId": "e36aa909-2440-4d05-c813-2491aee65946"
      },
      "execution_count": 25,
      "outputs": [
        {
          "output_type": "stream",
          "name": "stdout",
          "text": [
            "Número de palabras: 346\n",
            "Número de oraciones: 16\n",
            "Número de párrafos: 12\n",
            "Longitud promedio de las palabras: 5.309248554913295\n",
            "Palabras más comunes y sus frecuencias:\n",
            "  de: 15\n",
            "  la: 12\n",
            "  húmedo: 11\n",
            "  bulbo: 10\n",
            "  grados: 9\n",
            "  y: 8\n",
            "  a: 7\n",
            "  que: 7\n",
            "  el: 7\n",
            "  los: 7\n"
          ]
        }
      ]
    },
    {
      "cell_type": "markdown",
      "source": [
        "*Hangman Game:* Create a Python program that allows a user to play the game of Hangman. The program should randomly select a word from a predefined list, and the player must guess letters one at a time until they guess the word correctly or run out of attempts."
      ],
      "metadata": {
        "id": "BAeEu3_ldZ0h"
      }
    },
    {
      "cell_type": "markdown",
      "source": [
        "## **HANGMAN GAME**"
      ],
      "metadata": {
        "id": "lZeQw7HDJYvU"
      }
    },
    {
      "cell_type": "code",
      "source": [
        "import random\n",
        "\n",
        "def hangman():\n",
        "    # Lista de palabras\n",
        "    palabras = [\"medicina\", \"programacion\", \"rojo\", \"inteligencia\", \"verde\"]\n",
        "\n",
        "    # Seleccionar una palabra al azar\n",
        "    palabra = random.choice(palabras)\n",
        "    letras_adivinadas = []\n",
        "    intentos_restantes = 6\n",
        "    palabra_oculta = \"_\" * len(palabra)\n",
        "\n",
        "    print(\"¡Bienvenido al juego del Ahorcado!\")\n",
        "    print(palabra_oculta)\n",
        "\n",
        "    while intentos_restantes > 0 and \"_\" in palabra_oculta:\n",
        "        letra = input(\"Adivina una letra: \").lower()\n",
        "\n",
        "        if letra in letras_adivinadas:\n",
        "            print(\"Ya has adivinado esa letra. Intenta con otra.\")\n",
        "            continue\n",
        "\n",
        "        letras_adivinadas.append(letra)\n",
        "\n",
        "        if letra in palabra:\n",
        "            palabra_oculta = \"\".join([letra if letra == palabra[i] else palabra_oculta[i] for i in range(len(palabra))])\n",
        "            print(\"¡Correcto!\")\n",
        "        else:\n",
        "            intentos_restantes -= 1\n",
        "            print(\"Incorrecto. Te quedan {} intentos.\".format(intentos_restantes))\n",
        "\n",
        "        print(palabra_oculta)\n",
        "\n",
        "    if \"_\" not in palabra_oculta:\n",
        "        print(\"¡Felicidades! Has adivinado la palabra:\", palabra)\n",
        "    else:\n",
        "        print(\"Lo siento, te has quedado sin intentos. La palabra era:\", palabra)\n",
        "\n",
        "# Ejecutar el juego\n",
        "hangman()\n"
      ],
      "metadata": {
        "colab": {
          "base_uri": "https://localhost:8080/"
        },
        "id": "MipMPkwgE1Ik",
        "outputId": "1d9613d3-54f0-465b-d40a-c01b32b9341f"
      },
      "execution_count": 18,
      "outputs": [
        {
          "output_type": "stream",
          "name": "stdout",
          "text": [
            "¡Bienvenido al juego del Ahorcado!\n",
            "________\n",
            "Adivina una letra: a\n",
            "¡Correcto!\n",
            "_______a\n",
            "Adivina una letra: z\n",
            "Incorrecto. Te quedan 5 intentos.\n",
            "_______a\n",
            "Adivina una letra: p\n",
            "Incorrecto. Te quedan 4 intentos.\n",
            "_______a\n",
            "Adivina una letra: o\n",
            "Incorrecto. Te quedan 3 intentos.\n",
            "_______a\n",
            "Adivina una letra: i\n",
            "¡Correcto!\n",
            "___i_i_a\n",
            "Adivina una letra: c\n",
            "¡Correcto!\n",
            "___ici_a\n",
            "Adivina una letra: m\n",
            "¡Correcto!\n",
            "m__ici_a\n",
            "Adivina una letra: e\n",
            "¡Correcto!\n",
            "me_ici_a\n",
            "Adivina una letra: d\n",
            "¡Correcto!\n",
            "medici_a\n",
            "Adivina una letra: n\n",
            "¡Correcto!\n",
            "medicina\n",
            "¡Felicidades! Has adivinado la palabra: medicina\n"
          ]
        }
      ]
    },
    {
      "cell_type": "markdown",
      "source": [
        "*Number Guessing Game:* Create a program that generates a random number between 1 and 100, and then asks the user to guess the number. The program should provide hints to the user if the guessed number is greater or less than the target number, and keep asking for a new guess until the user guesses correctly."
      ],
      "metadata": {
        "id": "wpBeG-u7dlB5"
      }
    },
    {
      "cell_type": "markdown",
      "source": [
        "## **NumbersGuessing**"
      ],
      "metadata": {
        "id": "Ejlyxh40JiSu"
      }
    },
    {
      "cell_type": "code",
      "source": [
        "import random\n",
        "\n",
        "def number_guessing_game():\n",
        "    # Generar un número aleatorio entre 1 y 50\n",
        "    numero_secreto = random.randint(1, 50)\n",
        "    intento = None\n",
        "\n",
        "    print(\"¡Bienvenido a NumbersGuessing!\")\n",
        "    print(\"He seleccionado un número entre 1 y 50. ¿Puedes adivinar cuál es?\")\n",
        "\n",
        "    while intento != numero_secreto:\n",
        "        intento = int(input(\"Ingresa tu adivinanza: \"))\n",
        "\n",
        "        if intento < numero_secreto:\n",
        "            print(\"El número es mayor. Intenta de nuevo.\")\n",
        "        elif intento > numero_secreto:\n",
        "            print(\"El número es menor. Intenta de nuevo.\")\n",
        "        else:\n",
        "            print(\"¡Felicidades! Has adivinado, el número es:\", numero_secreto)\n",
        "\n",
        "# Ejecutar el juego\n",
        "number_guessing_game()\n"
      ],
      "metadata": {
        "colab": {
          "base_uri": "https://localhost:8080/"
        },
        "id": "zCc252nOFgS9",
        "outputId": "56f817f7-3a14-4b0c-d9c5-9259c9426612"
      },
      "execution_count": 21,
      "outputs": [
        {
          "output_type": "stream",
          "name": "stdout",
          "text": [
            "¡Bienvenido a NumbersGuessing!\n",
            "He seleccionado un número entre 1 y 50. ¿Puedes adivinar cuál es?\n",
            "Ingresa tu adivinanza: 50\n",
            "El número es menor. Intenta de nuevo.\n",
            "Ingresa tu adivinanza: 45\n",
            "El número es menor. Intenta de nuevo.\n",
            "Ingresa tu adivinanza: 39\n",
            "El número es menor. Intenta de nuevo.\n",
            "Ingresa tu adivinanza: 20\n",
            "El número es mayor. Intenta de nuevo.\n",
            "Ingresa tu adivinanza: 25\n",
            "El número es mayor. Intenta de nuevo.\n",
            "Ingresa tu adivinanza: 36\n",
            "El número es mayor. Intenta de nuevo.\n",
            "Ingresa tu adivinanza: 40\n",
            "El número es menor. Intenta de nuevo.\n",
            "Ingresa tu adivinanza: 41\n",
            "El número es menor. Intenta de nuevo.\n",
            "Ingresa tu adivinanza: 40\n",
            "El número es menor. Intenta de nuevo.\n",
            "Ingresa tu adivinanza: 36\n",
            "El número es mayor. Intenta de nuevo.\n",
            "Ingresa tu adivinanza: 37\n",
            "El número es mayor. Intenta de nuevo.\n",
            "Ingresa tu adivinanza: 38\n",
            "¡Felicidades! Has adivinado, el número es: 38\n"
          ]
        }
      ]
    },
    {
      "cell_type": "markdown",
      "source": [
        "Referencias: Matthes, E. (2023). Python crash course. No starch press.\n",
        "\n",
        "https://www.w3schools.com/python/default.asp"
      ],
      "metadata": {
        "id": "TF0lbcU3erSn"
      }
    }
  ]
}